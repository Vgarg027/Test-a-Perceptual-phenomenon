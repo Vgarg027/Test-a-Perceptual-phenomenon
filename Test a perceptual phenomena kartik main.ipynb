{
 "cells": [
  {
   "cell_type": "markdown",
   "metadata": {},
   "source": [
    "# <center><u>PROJ 1 : TEST A PERCEPTUAL PHENOMENON </u></center> \n",
    "### INTRODUCTION :\n",
    "\n",
    "In a Stroop task, participants are presented with a list of words, with each word displayed in a color of ink. The participant’s task is to say out loud the color of the ink in which the word is printed. The task has two conditions: a congruent words condition, and an incongruent words condition. In the congruent words condition, the words being displayed are color words whose names match the colors in which they are printed: for example RED , BLUE. In the incongruent words condition, the words displayed are color words whose names do not match the colors in which they are printed: for example PURPLE, ORANGE. In each case, we measure the time it takes to name the ink colors in equally-sized lists. Each participant will go through and record a time from each condition.\n",
    "\n",
    "In this project, we will investigate a classic phenomenon from experimental psychology called the Stroop Effect. We create a hypothesis regarding the outcome of the task, then go through the task. We will then look at some data collected from others who have performed the same task and will compute some statistics describing the results. Finally, we will interpret the results in terms of our hypotheses."
   ]
  },
  {
   "cell_type": "code",
   "execution_count": 2,
   "metadata": {},
   "outputs": [
    {
     "data": {
      "text/html": [
       "<div>\n",
       "<style scoped>\n",
       "    .dataframe tbody tr th:only-of-type {\n",
       "        vertical-align: middle;\n",
       "    }\n",
       "\n",
       "    .dataframe tbody tr th {\n",
       "        vertical-align: top;\n",
       "    }\n",
       "\n",
       "    .dataframe thead th {\n",
       "        text-align: right;\n",
       "    }\n",
       "</style>\n",
       "<table border=\"1\" class=\"dataframe\">\n",
       "  <thead>\n",
       "    <tr style=\"text-align: right;\">\n",
       "      <th></th>\n",
       "      <th>Congruent</th>\n",
       "      <th>Incongruent</th>\n",
       "      <th>Subject</th>\n",
       "    </tr>\n",
       "  </thead>\n",
       "  <tbody>\n",
       "    <tr>\n",
       "      <th>0</th>\n",
       "      <td>12.079</td>\n",
       "      <td>19.278</td>\n",
       "      <td>1</td>\n",
       "    </tr>\n",
       "    <tr>\n",
       "      <th>1</th>\n",
       "      <td>16.791</td>\n",
       "      <td>18.741</td>\n",
       "      <td>2</td>\n",
       "    </tr>\n",
       "    <tr>\n",
       "      <th>2</th>\n",
       "      <td>9.564</td>\n",
       "      <td>21.214</td>\n",
       "      <td>3</td>\n",
       "    </tr>\n",
       "    <tr>\n",
       "      <th>3</th>\n",
       "      <td>8.630</td>\n",
       "      <td>15.687</td>\n",
       "      <td>4</td>\n",
       "    </tr>\n",
       "    <tr>\n",
       "      <th>4</th>\n",
       "      <td>14.669</td>\n",
       "      <td>22.803</td>\n",
       "      <td>5</td>\n",
       "    </tr>\n",
       "  </tbody>\n",
       "</table>\n",
       "</div>"
      ],
      "text/plain": [
       "   Congruent  Incongruent  Subject\n",
       "0     12.079       19.278        1\n",
       "1     16.791       18.741        2\n",
       "2      9.564       21.214        3\n",
       "3      8.630       15.687        4\n",
       "4     14.669       22.803        5"
      ]
     },
     "execution_count": 2,
     "metadata": {},
     "output_type": "execute_result"
    }
   ],
   "source": [
    "import numpy as np   #including all necessary libraries\n",
    "import pandas as pd\n",
    "import math\n",
    "\n",
    "% matplotlib inline\n",
    "\n",
    "df = pd.read_csv('stroopdata.csv')\n",
    "df['Subject'] = df.index+1\n",
    "df.head()"
   ]
  },
  {
   "cell_type": "markdown",
   "metadata": {},
   "source": [
    "### Questions For Investigation:\n",
    "\n",
    "<b>(1)</b> <u>`What is the independent variable? What is the dependent variable?`</u>\n",
    "\n",
    "Independent variable: the words condition (congruent words or incongruent words).\n",
    "\n",
    "Dependent variable: the time it takes to name the ink colors in equally-sized lists.\n",
    "\n"
   ]
  },
  {
   "cell_type": "markdown",
   "metadata": {},
   "source": [
    "\n",
    "<b>(2)</b> <u>`What is an appropriate set of hypotheses for this task? What kind of statistical test do you expect to perform? Justify your choices.`</u>\n",
    "\n",
    "H0: No noticeable difference in mean time duration between the congruent and incongruent tests.\n",
    "\n",
    "HA: There would be a noticeable difference in mean time duration between the congruent and incongruent tests.\n",
    "\n",
    "H0: μC = μI\n",
    "\n",
    "HA: μC  ≠  μI\n",
    "\n",
    "where μ is a population mean, the subscript \"C\" represents the congruent words condition, and the subscript \"I\" represents the incongruent words condition.\n",
    "\n",
    "The appropriate statistical test I am going to use here is a Paired T-Test.\n",
    "\n",
    "This is because it determines whether the mean of the differences between two paired samples differs from 0 or calculate a range of values that is likely to include the population mean of the differences. A paired t-test can be more powerful than a 2-sample t-test because the latter includes additional variation occurring from the independence of the observations. A paired t-test is not subject to this variation because the paired observations are dependent.\n",
    "\n",
    "T-test compares the mean of two paired groups to see if there are statistically significant differences between these means. \n",
    "\n",
    "<b>Assumptions:</b> The experimental design, in this case, is \"within-subjects\". The same subjects were tested for congruent and incongruent words. By using the same subject to test two different condition, we eliminate the individual differences that occur between subjects.\n",
    "\n",
    "This test assumes -\n",
    "\n",
    "1. <b>The differences are of measurement variables:</b>\n",
    "Ordinal variables should not be analyzed using the paired t-test.\n",
    "\n",
    "2. <b>Sampling (or allocation) is random and pairs of observations are independent:</b>\n",
    "Individual observations are clearly not independent - otherwise you would not be using the paired t-test - but the pairs of observations must be independent\n",
    "\n",
    "3. <b>The distribution of the mean difference is normal:</b>\n",
    "The mean difference will follow a normal distribution if the samples are drawn from a population of differences with a normal distribution. If the unpaired observations are not normal the fact they are differences will have a slight normalizing effect since a difference between two observations is equivalent to a mean of two observations in terms of central limit theorem. But even if the parent population is not normal, the differences will tend towards normality as sample size increases.\n",
    "\n",
    "If we get a significant result, we can reject the null hypothesis and accept the alternative hypothesis that there are statistically significant differences between the mean time taken to name ink color between two test conditions.\n"
   ]
  },
  {
   "cell_type": "markdown",
   "metadata": {},
   "source": [
    "<b>(3)</b> <u>`Report some descriptive statistics regarding this dataset. Include at least one measure of central tendency and at least one measure of variability.`</u>"
   ]
  },
  {
   "cell_type": "code",
   "execution_count": 4,
   "metadata": {},
   "outputs": [
    {
     "data": {
      "text/html": [
       "<div>\n",
       "<style scoped>\n",
       "    .dataframe tbody tr th:only-of-type {\n",
       "        vertical-align: middle;\n",
       "    }\n",
       "\n",
       "    .dataframe tbody tr th {\n",
       "        vertical-align: top;\n",
       "    }\n",
       "\n",
       "    .dataframe thead th {\n",
       "        text-align: right;\n",
       "    }\n",
       "</style>\n",
       "<table border=\"1\" class=\"dataframe\">\n",
       "  <thead>\n",
       "    <tr style=\"text-align: right;\">\n",
       "      <th></th>\n",
       "      <th>Congruent</th>\n",
       "      <th>Incongruent</th>\n",
       "    </tr>\n",
       "  </thead>\n",
       "  <tbody>\n",
       "    <tr>\n",
       "      <th>count</th>\n",
       "      <td>24.000000</td>\n",
       "      <td>24.000000</td>\n",
       "    </tr>\n",
       "    <tr>\n",
       "      <th>mean</th>\n",
       "      <td>14.051125</td>\n",
       "      <td>22.015917</td>\n",
       "    </tr>\n",
       "    <tr>\n",
       "      <th>std</th>\n",
       "      <td>3.559358</td>\n",
       "      <td>4.797057</td>\n",
       "    </tr>\n",
       "    <tr>\n",
       "      <th>min</th>\n",
       "      <td>8.630000</td>\n",
       "      <td>15.687000</td>\n",
       "    </tr>\n",
       "    <tr>\n",
       "      <th>25%</th>\n",
       "      <td>11.895250</td>\n",
       "      <td>18.716750</td>\n",
       "    </tr>\n",
       "    <tr>\n",
       "      <th>50%</th>\n",
       "      <td>14.356500</td>\n",
       "      <td>21.017500</td>\n",
       "    </tr>\n",
       "    <tr>\n",
       "      <th>75%</th>\n",
       "      <td>16.200750</td>\n",
       "      <td>24.051500</td>\n",
       "    </tr>\n",
       "    <tr>\n",
       "      <th>max</th>\n",
       "      <td>22.328000</td>\n",
       "      <td>35.255000</td>\n",
       "    </tr>\n",
       "  </tbody>\n",
       "</table>\n",
       "</div>"
      ],
      "text/plain": [
       "       Congruent  Incongruent\n",
       "count  24.000000    24.000000\n",
       "mean   14.051125    22.015917\n",
       "std     3.559358     4.797057\n",
       "min     8.630000    15.687000\n",
       "25%    11.895250    18.716750\n",
       "50%    14.356500    21.017500\n",
       "75%    16.200750    24.051500\n",
       "max    22.328000    35.255000"
      ]
     },
     "execution_count": 4,
     "metadata": {},
     "output_type": "execute_result"
    }
   ],
   "source": [
    "df[['Congruent', 'Incongruent']].describe()"
   ]
  },
  {
   "cell_type": "markdown",
   "metadata": {},
   "source": [
    "##### Central Tendency:\n",
    "\n",
    "Mean of congruent: 14.05\n",
    "\n",
    "Mean of incogruent: 22.02\n",
    "\n",
    "###### Measure Of Variability\n",
    "\n",
    "Standard Deviation of congruent: 3.56\n",
    "\n",
    "Standard Deviation of incogruent: 4.80\n",
    "\n",
    "The table displays some statistical information about our data. Stroop experiment determining the means of the congruent Condition is 14 seconds, and the Incongruent Condition we have 22 seconds. There is a 8 seconds extra mean time taken between both conditions. This means participants took more time to name the color of incongruent words compared to congruent words."
   ]
  },
  {
   "cell_type": "markdown",
   "metadata": {},
   "source": [
    "<b>(4)</b><u>`Provide one or two visualizations that show the distribution of the sample data. Write one or two sentences noting what you observe about the plot or plots.`</u>"
   ]
  },
  {
   "cell_type": "markdown",
   "metadata": {},
   "source": [
    "##### PLOT 1:"
   ]
  },
  {
   "cell_type": "code",
   "execution_count": 5,
   "metadata": {},
   "outputs": [
    {
     "data": {
      "image/png": "[encoded data removed]",
      "text/plain": [
       "<matplotlib.figure.Figure at 0x1d86b14d9e8>"
      ]
     },
     "metadata": {},
     "output_type": "display_data"
    }
   ],
   "source": [
    "import matplotlib.pyplot as plt\n",
    "Congruent = df['Congruent'].values.tolist()\n",
    "Incongruent = df['Incongruent'].values.tolist()\n",
    "\n",
    "# Plot the means (optional)\n",
    "df[['Congruent','Incongruent']].mean().plot('bar')\n",
    "plt.title(\"Mean response time for congruent vs incongruent words\");"
   ]
  },
  {
   "cell_type": "markdown",
   "metadata": {},
   "source": [
    "<b>`Inference:`</b> Stroop experiment determined the means of the `Congruent Condition` is 14 seconds, and the `Incongruent Condition` we have 22 seconds. There is a 8 seconds extra mean time taken between both conditions. This implies that participants took more time to name the color of incongruent words compared to congruent words."
   ]
  },
  {
   "cell_type": "markdown",
   "metadata": {},
   "source": [
    "##### PLOT 2:"
   ]
  },
  {
   "cell_type": "code",
   "execution_count": 7,
   "metadata": {},
   "outputs": [
    {
     "data": {
      "image/png": "[encoded data removed]",
      "text/plain": [
       "<matplotlib.figure.Figure at 0x1d86d078438>"
      ]
     },
     "metadata": {},
     "output_type": "display_data"
    }
   ],
   "source": [
    "#Distribution of time taken to name ink colors \n",
    "#with a kernel density estimate,histogram and rug plot\n",
    "import seaborn as sns\n",
    "sns.distplot(df['Congruent'], rug = True, label = \"congruent\");\n",
    "sns.distplot(df['Incongruent'], rug = True, label = \"incongruent\");\n",
    "plt.xlabel(\"Time taken to name ink colors\");\n",
    "plt.ylabel(\"Frequency\");\n",
    "plt.title(\"Response time for congruent vs incongruent words\");\n",
    "plt.legend();"
   ]
  },
  {
   "cell_type": "markdown",
   "metadata": {},
   "source": [
    "<b>`Inference:`</b> The distribution of time taken to name ink color for congruent words is between 8.63s to 22.328s, whereas the distribution of time taken to name ink color for incongruent words is between 15.687s to 35.255s."
   ]
  },
  {
   "cell_type": "markdown",
   "metadata": {},
   "source": [
    "##### PLOT 3:"
   ]
  },
  {
   "cell_type": "code",
   "execution_count": 32,
   "metadata": {},
   "outputs": [
    {
     "data": {
      "text/plain": [
       "Text(0.5,1,'Congruent vs Incongruent words')"
      ]
     },
     "execution_count": 32,
     "metadata": {},
     "output_type": "execute_result"
    },
    {
     "data": {
      "image/png": "[encoded data removed]",
      "text/plain": [
       "<matplotlib.figure.Figure at 0x1d86d2276d8>"
      ]
     },
     "metadata": {},
     "output_type": "display_data"
    },
    {
     "data": {
      "image/png": "[encoded data removed]",
      "text/plain": [
       "<matplotlib.figure.Figure at 0x1d86d6c2940>"
      ]
     },
     "metadata": {},
     "output_type": "display_data"
    }
   ],
   "source": [
    "df_I = df['Incongruent']\n",
    "df_C = df['Congruent']\n",
    "\n",
    "df[['Congruent','Incongruent']].plot(kind='bar')\n",
    "plt.xlabel(\"Subject\",fontsize=12,color='G')\n",
    "plt.ylabel(\"Time Taken\",fontsize=12,color='G')\n",
    "plt.title(\"Congruent vs Incongruent words\",color='G')\n",
    "\n",
    "df[['Congruent','Incongruent']].plot(kind='box',color='purple')\n",
    "plt.xlabel(\"Subject\",fontsize=12,color='G')\n",
    "plt.ylabel(\"Time Taken\",fontsize=12,color='G')\n",
    "plt.title(\"Congruent vs Incongruent words\",color='G')\n",
    "\n"
   ]
  },
  {
   "cell_type": "markdown",
   "metadata": {},
   "source": [
    "<b>`Inference:`</b> Blue is the congruent condition, orange is the incongruent condition. I can see immediatelly that the Orange vertical bars are always above the blue ones, hence it takes more time to read.\n",
    "Second plot implies that overall, participants took more time to name the color of incongruent words compared to congruent words."
   ]
  },
  {
   "cell_type": "markdown",
   "metadata": {},
   "source": [
    "<b>(5)</b> <u>` Now, perform the statistical test and report your results. What is your confidence level or Type I error associated with your test? What is your conclusion regarding the hypotheses you set up? Did the results match up with your expectations?`</u>"
   ]
  },
  {
   "cell_type": "markdown",
   "metadata": {},
   "source": [
    "- <b> Performing the statistical test:</b>"
   ]
  },
  {
   "cell_type": "code",
   "execution_count": 33,
   "metadata": {},
   "outputs": [
    {
     "data": {
      "text/plain": [
       "Ttest_relResult(statistic=-8.020706944109957, pvalue=4.103000585711178e-08)"
      ]
     },
     "execution_count": 33,
     "metadata": {},
     "output_type": "execute_result"
    }
   ],
   "source": [
    "import scipy.stats as stats\n",
    "stats.ttest_rel(df['Congruent'],df['Incongruent'])"
   ]
  },
  {
   "cell_type": "markdown",
   "metadata": {},
   "source": [
    "Significance level(α) is the criterion used for rejecting null hypothesis. Statisticians have commonly used either the 0.05 level (5% chance) or the 0.01 level (1% chance). \n",
    "\n",
    "Here we are taking 5%. We obtained a p-value = 4.1030e-08. This means we'd expect a 0.000004103 chance of finding a difference. Our p-value is way lower than our significance level α (0.05) so we should `Reject the null hypothesis.`"
   ]
  },
  {
   "cell_type": "markdown",
   "metadata": {},
   "source": [
    "- <b> Confidence intervals: </b>"
   ]
  },
  {
   "cell_type": "code",
   "execution_count": 34,
   "metadata": {},
   "outputs": [],
   "source": [
    "from math import sqrt\n",
    "n=24\n",
    "df['Difference'] = df['Congruent'] - df['Incongruent']\n",
    "mean_of_the_differences = df['Difference'].mean() \n",
    "stdev_of_the_differences = df['Difference'].std()  \n",
    "se = stdev_of_the_differences/float(sqrt(n))"
   ]
  },
  {
   "cell_type": "markdown",
   "metadata": {},
   "source": [
    "Confidence intervals (CI) are a useful statistic to include because they indicate where the true population mean might be. It is common to report 95% confidence intervals.\n"
   ]
  },
  {
   "cell_type": "code",
   "execution_count": 37,
   "metadata": {},
   "outputs": [
    {
     "data": {
      "text/plain": [
       "(-9.911092026449193, -6.01849130688414)"
      ]
     },
     "execution_count": 37,
     "metadata": {},
     "output_type": "execute_result"
    }
   ],
   "source": [
    "# calculating confidence interval:\n",
    "stats.norm.interval(0.95, loc = mean_of_the_differences, scale = se)"
   ]
  },
  {
   "cell_type": "markdown",
   "metadata": {},
   "source": [
    "- <b> Conclusion: </b>\n",
    "\n",
    "The experiment proved that when a color word is printed in the same color as the word, people can name the ink color more quickly compared with when a color word is printed with an ink color not denoted by the word."
   ]
  },
  {
   "cell_type": "markdown",
   "metadata": {},
   "source": [
    "- <b> Result: </b>\n",
    "    \n",
    "The results are congruent with my intuition."
   ]
  },
  {
   "cell_type": "markdown",
   "metadata": {},
   "source": [
    "### Reference\n",
    "\n",
    "- Stroop effect - Wikipedia\n",
    "- Scipy.org\n",
    "- archimedes-lab.org\n",
    "- google.com\n",
    "- stackoverflow.com"
   ]
  }
 ],
 "metadata": {
  "kernelspec": {
   "display_name": "Python 3",
   "language": "python",
   "name": "python3"
  },
  "language_info": {
   "codemirror_mode": {
    "name": "ipython",
    "version": 3
   },
   "file_extension": ".py",
   "mimetype": "text/x-python",
   "name": "python",
   "nbconvert_exporter": "python",
   "pygments_lexer": "ipython3",
   "version": "3.6.4"
  }
 },
 "nbformat": 4,
 "nbformat_minor": 2
}
